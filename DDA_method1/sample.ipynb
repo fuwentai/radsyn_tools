{
 "cells": [
  {
   "cell_type": "code",
   "execution_count": 1,
   "id": "b17defcd-45da-4247-a0cf-f6b7b9b6c603",
   "metadata": {},
   "outputs": [],
   "source": [
    "import RST_cart.generate_plane_points as points\n",
    "import RST_cart.DDA as DDA\n",
    "import RST_cart.physical_module as physical_module\n",
    "import numpy as np\n",
    "import matplotlib.pyplot as plt"
   ]
  },
  {
   "cell_type": "code",
   "execution_count": 2,
   "id": "f93f66de-18e7-4b13-90f8-4a93ab1b680e",
   "metadata": {},
   "outputs": [],
   "source": [
    "def cal_image(rho,pres,Te,R,wavelength,left_edge,right_edge,center,normal,width,resolution,absorption=True):\n",
    "    if wave_length == 'radio':\n",
    "        kappa_data, j_data = physical_module.cal_radio(rho,pres,Te)\n",
    "    if wave_length == 'white_light':\n",
    "        kappa_data, j_data = physical_module.cal_white_light(rho,R)\n",
    "    else:\n",
    "        kappa_data, j_data = physical_module.cal_euv(rho,pres,Te,wavelength,absorption)\n",
    "\n",
    "    vc = DDA.VolumeContainer(kappa_data, j_data, left_edge, right_edge)\n",
    "    \n",
    "    plane_points = points.generate_plane_points(center, normal, width, resolution)\n",
    "    \n",
    "    image = DDA.integrate_plane_points(plane_points, normal, vc, max_t=width)\n",
    "\n",
    "    return image"
   ]
  },
  {
   "cell_type": "code",
   "execution_count": null,
   "id": "f3843115-9791-4f7b-a341-802224edcf18",
   "metadata": {
    "scrolled": true
   },
   "outputs": [],
   "source": [
    "import numpy as np\n",
    "import time\n",
    "\n",
    "#cgs,the sample codes from sphere to cartesian is mentioned in \n",
    "\n",
    "folder_path='your_path'\n",
    "data=np.load(folder_path+'your_data')\n",
    "\n",
    "rho=number_density_from_your_data\n",
    "Te=temperature_from_your_data\n",
    "pres=pressure_from_your_data\n",
    "\n",
    "rho = np.nan_to_num(rho, nan=0)\n",
    "Te = np.nan_to_num(Te, nan=0)\n",
    "pres = np.nan_to_num(pres, nan=0)\n",
    "\n",
    "#给定grid的边界值和选定波段\n",
    "left_edge  = np.array([0.49691691,-1.21112115,-1.56216946])*7e10\n",
    "right_edge = np.array([1.99999897,1.04472309,0.72845339])*7e10\n",
    "\n",
    "#如果为EUV，填写波段的数字，如果为radio或者tomson scatter,填写字符串'radio'或者'white_light'\n",
    "wavelength=304 \n",
    "\n",
    "#EUV和radio默认光厚,white_light默认光薄,想得到光薄的EUV辐射则将absortion修改为False\n",
    "absorption=True\n",
    "\n",
    "#如果选择white_light，则需要修改下面的代码给出每个格点的半径数组,不使用white_light则R==np.zeros(rho.shape)\n",
    "R==np.zeros(rho.shape)\n",
    "\n",
    "#选定辐射合成视角\n",
    "center = np.array([1.25, 0.1, -0.5])*7e10     # 平面中心\n",
    "#normal = np.array([-1.50955, 1.7246, 0.3895])    # 平面法向 (y轴方向)\n",
    "normal = np.array([-1, -1, 1])\n",
    "\n",
    "#选定image射线平面足点,width表示image视线平面的宽度,resolution表示图片的分辨率（resolution*resolutino数量的射线）\n",
    "width = 3*7e10\n",
    "resolution = 400\n",
    "\n",
    "\n",
    "image = cal_image(rho,pres,Te,R,wavelength,left_edge,right_edge,center,normal,width,resolution,absorption)\n"
   ]
  },
  {
   "cell_type": "code",
   "execution_count": null,
   "id": "626cbfed-3e67-4670-ab02-4822519e3fa7",
   "metadata": {},
   "outputs": [],
   "source": [
    "import sunpy.map\n",
    "\n",
    "plt.imshow(np.log10(image.reshape(resolution,resolution)),cmap='sdoaia304',norm=mcolors.SymLogNorm(linthresh=0.03, linscale=0.03, vmin=0, vmax=5))"
   ]
  }
 ],
 "metadata": {
  "kernelspec": {
   "display_name": "fuwentai",
   "language": "python",
   "name": "fuwentai"
  },
  "language_info": {
   "codemirror_mode": {
    "name": "ipython",
    "version": 3
   },
   "file_extension": ".py",
   "mimetype": "text/x-python",
   "name": "python",
   "nbconvert_exporter": "python",
   "pygments_lexer": "ipython3",
   "version": "3.12.7"
  }
 },
 "nbformat": 4,
 "nbformat_minor": 5
}
